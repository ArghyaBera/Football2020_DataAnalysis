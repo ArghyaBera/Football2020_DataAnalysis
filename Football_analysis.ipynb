{
 "cells": [
  {
   "cell_type": "markdown",
   "id": "b779e71a",
   "metadata": {},
   "source": [
    "# Data Analysis on Football Players"
   ]
  },
  {
   "cell_type": "code",
   "execution_count": 2,
   "id": "36d75dbf",
   "metadata": {},
   "outputs": [],
   "source": [
    "import numpy as np\n",
    "import pandas as pd\n",
    "import matplotlib.pyplot as plt\n",
    "import seaborn as sns"
   ]
  },
  {
   "cell_type": "code",
   "execution_count": 4,
   "id": "c0a3e8bb",
   "metadata": {},
   "outputs": [],
   "source": [
    "df=pd.read_csv('players_20.csv')"
   ]
  },
  {
   "cell_type": "markdown",
   "id": "5e977548",
   "metadata": {},
   "source": [
    "## First Five entries of Data"
   ]
  },
  {
   "cell_type": "code",
   "execution_count": 5,
   "id": "35780701",
   "metadata": {},
   "outputs": [
    {
     "data": {
      "text/html": [
       "<div>\n",
       "<style scoped>\n",
       "    .dataframe tbody tr th:only-of-type {\n",
       "        vertical-align: middle;\n",
       "    }\n",
       "\n",
       "    .dataframe tbody tr th {\n",
       "        vertical-align: top;\n",
       "    }\n",
       "\n",
       "    .dataframe thead th {\n",
       "        text-align: right;\n",
       "    }\n",
       "</style>\n",
       "<table border=\"1\" class=\"dataframe\">\n",
       "  <thead>\n",
       "    <tr style=\"text-align: right;\">\n",
       "      <th></th>\n",
       "      <th>sofifa_id</th>\n",
       "      <th>player_url</th>\n",
       "      <th>short_name</th>\n",
       "      <th>long_name</th>\n",
       "      <th>age</th>\n",
       "      <th>dob</th>\n",
       "      <th>height_cm</th>\n",
       "      <th>weight_kg</th>\n",
       "      <th>nationality</th>\n",
       "      <th>club</th>\n",
       "      <th>...</th>\n",
       "      <th>lwb</th>\n",
       "      <th>ldm</th>\n",
       "      <th>cdm</th>\n",
       "      <th>rdm</th>\n",
       "      <th>rwb</th>\n",
       "      <th>lb</th>\n",
       "      <th>lcb</th>\n",
       "      <th>cb</th>\n",
       "      <th>rcb</th>\n",
       "      <th>rb</th>\n",
       "    </tr>\n",
       "  </thead>\n",
       "  <tbody>\n",
       "    <tr>\n",
       "      <th>0</th>\n",
       "      <td>158023</td>\n",
       "      <td>https://sofifa.com/player/158023/lionel-messi/...</td>\n",
       "      <td>L. Messi</td>\n",
       "      <td>Lionel Andrés Messi Cuccittini</td>\n",
       "      <td>32</td>\n",
       "      <td>1987-06-24</td>\n",
       "      <td>170</td>\n",
       "      <td>72</td>\n",
       "      <td>Argentina</td>\n",
       "      <td>FC Barcelona</td>\n",
       "      <td>...</td>\n",
       "      <td>68+2</td>\n",
       "      <td>66+2</td>\n",
       "      <td>66+2</td>\n",
       "      <td>66+2</td>\n",
       "      <td>68+2</td>\n",
       "      <td>63+2</td>\n",
       "      <td>52+2</td>\n",
       "      <td>52+2</td>\n",
       "      <td>52+2</td>\n",
       "      <td>63+2</td>\n",
       "    </tr>\n",
       "    <tr>\n",
       "      <th>1</th>\n",
       "      <td>20801</td>\n",
       "      <td>https://sofifa.com/player/20801/c-ronaldo-dos-...</td>\n",
       "      <td>Cristiano Ronaldo</td>\n",
       "      <td>Cristiano Ronaldo dos Santos Aveiro</td>\n",
       "      <td>34</td>\n",
       "      <td>1985-02-05</td>\n",
       "      <td>187</td>\n",
       "      <td>83</td>\n",
       "      <td>Portugal</td>\n",
       "      <td>Juventus</td>\n",
       "      <td>...</td>\n",
       "      <td>65+3</td>\n",
       "      <td>61+3</td>\n",
       "      <td>61+3</td>\n",
       "      <td>61+3</td>\n",
       "      <td>65+3</td>\n",
       "      <td>61+3</td>\n",
       "      <td>53+3</td>\n",
       "      <td>53+3</td>\n",
       "      <td>53+3</td>\n",
       "      <td>61+3</td>\n",
       "    </tr>\n",
       "    <tr>\n",
       "      <th>2</th>\n",
       "      <td>190871</td>\n",
       "      <td>https://sofifa.com/player/190871/neymar-da-sil...</td>\n",
       "      <td>Neymar Jr</td>\n",
       "      <td>Neymar da Silva Santos Junior</td>\n",
       "      <td>27</td>\n",
       "      <td>1992-02-05</td>\n",
       "      <td>175</td>\n",
       "      <td>68</td>\n",
       "      <td>Brazil</td>\n",
       "      <td>Paris Saint-Germain</td>\n",
       "      <td>...</td>\n",
       "      <td>66+3</td>\n",
       "      <td>61+3</td>\n",
       "      <td>61+3</td>\n",
       "      <td>61+3</td>\n",
       "      <td>66+3</td>\n",
       "      <td>61+3</td>\n",
       "      <td>46+3</td>\n",
       "      <td>46+3</td>\n",
       "      <td>46+3</td>\n",
       "      <td>61+3</td>\n",
       "    </tr>\n",
       "    <tr>\n",
       "      <th>3</th>\n",
       "      <td>200389</td>\n",
       "      <td>https://sofifa.com/player/200389/jan-oblak/20/...</td>\n",
       "      <td>J. Oblak</td>\n",
       "      <td>Jan Oblak</td>\n",
       "      <td>26</td>\n",
       "      <td>1993-01-07</td>\n",
       "      <td>188</td>\n",
       "      <td>87</td>\n",
       "      <td>Slovenia</td>\n",
       "      <td>Atlético Madrid</td>\n",
       "      <td>...</td>\n",
       "      <td>NaN</td>\n",
       "      <td>NaN</td>\n",
       "      <td>NaN</td>\n",
       "      <td>NaN</td>\n",
       "      <td>NaN</td>\n",
       "      <td>NaN</td>\n",
       "      <td>NaN</td>\n",
       "      <td>NaN</td>\n",
       "      <td>NaN</td>\n",
       "      <td>NaN</td>\n",
       "    </tr>\n",
       "    <tr>\n",
       "      <th>4</th>\n",
       "      <td>183277</td>\n",
       "      <td>https://sofifa.com/player/183277/eden-hazard/2...</td>\n",
       "      <td>E. Hazard</td>\n",
       "      <td>Eden Hazard</td>\n",
       "      <td>28</td>\n",
       "      <td>1991-01-07</td>\n",
       "      <td>175</td>\n",
       "      <td>74</td>\n",
       "      <td>Belgium</td>\n",
       "      <td>Real Madrid</td>\n",
       "      <td>...</td>\n",
       "      <td>66+3</td>\n",
       "      <td>63+3</td>\n",
       "      <td>63+3</td>\n",
       "      <td>63+3</td>\n",
       "      <td>66+3</td>\n",
       "      <td>61+3</td>\n",
       "      <td>49+3</td>\n",
       "      <td>49+3</td>\n",
       "      <td>49+3</td>\n",
       "      <td>61+3</td>\n",
       "    </tr>\n",
       "  </tbody>\n",
       "</table>\n",
       "<p>5 rows × 104 columns</p>\n",
       "</div>"
      ],
      "text/plain": [
       "   sofifa_id                                         player_url  \\\n",
       "0     158023  https://sofifa.com/player/158023/lionel-messi/...   \n",
       "1      20801  https://sofifa.com/player/20801/c-ronaldo-dos-...   \n",
       "2     190871  https://sofifa.com/player/190871/neymar-da-sil...   \n",
       "3     200389  https://sofifa.com/player/200389/jan-oblak/20/...   \n",
       "4     183277  https://sofifa.com/player/183277/eden-hazard/2...   \n",
       "\n",
       "          short_name                            long_name  age         dob  \\\n",
       "0           L. Messi       Lionel Andrés Messi Cuccittini   32  1987-06-24   \n",
       "1  Cristiano Ronaldo  Cristiano Ronaldo dos Santos Aveiro   34  1985-02-05   \n",
       "2          Neymar Jr        Neymar da Silva Santos Junior   27  1992-02-05   \n",
       "3           J. Oblak                            Jan Oblak   26  1993-01-07   \n",
       "4          E. Hazard                          Eden Hazard   28  1991-01-07   \n",
       "\n",
       "   height_cm  weight_kg nationality                 club  ...   lwb   ldm  \\\n",
       "0        170         72   Argentina         FC Barcelona  ...  68+2  66+2   \n",
       "1        187         83    Portugal             Juventus  ...  65+3  61+3   \n",
       "2        175         68      Brazil  Paris Saint-Germain  ...  66+3  61+3   \n",
       "3        188         87    Slovenia      Atlético Madrid  ...   NaN   NaN   \n",
       "4        175         74     Belgium          Real Madrid  ...  66+3  63+3   \n",
       "\n",
       "    cdm   rdm   rwb    lb   lcb    cb   rcb    rb  \n",
       "0  66+2  66+2  68+2  63+2  52+2  52+2  52+2  63+2  \n",
       "1  61+3  61+3  65+3  61+3  53+3  53+3  53+3  61+3  \n",
       "2  61+3  61+3  66+3  61+3  46+3  46+3  46+3  61+3  \n",
       "3   NaN   NaN   NaN   NaN   NaN   NaN   NaN   NaN  \n",
       "4  63+3  63+3  66+3  61+3  49+3  49+3  49+3  61+3  \n",
       "\n",
       "[5 rows x 104 columns]"
      ]
     },
     "execution_count": 5,
     "metadata": {},
     "output_type": "execute_result"
    }
   ],
   "source": [
    "df.head()"
   ]
  },
  {
   "cell_type": "markdown",
   "id": "fe4e02c4",
   "metadata": {},
   "source": [
    "## Features"
   ]
  },
  {
   "cell_type": "code",
   "execution_count": 13,
   "id": "92da9455",
   "metadata": {},
   "outputs": [
    {
     "name": "stdout",
     "output_type": "stream",
     "text": [
      "sofifa_id\n",
      "player_url\n",
      "short_name\n",
      "long_name\n",
      "age\n",
      "dob\n",
      "height_cm\n",
      "weight_kg\n",
      "nationality\n",
      "club\n",
      "overall\n",
      "potential\n",
      "value_eur\n",
      "wage_eur\n",
      "player_positions\n",
      "preferred_foot\n",
      "international_reputation\n",
      "weak_foot\n",
      "skill_moves\n",
      "work_rate\n",
      "body_type\n",
      "real_face\n",
      "release_clause_eur\n",
      "player_tags\n",
      "team_position\n",
      "team_jersey_number\n",
      "loaned_from\n",
      "joined\n",
      "contract_valid_until\n",
      "nation_position\n",
      "nation_jersey_number\n",
      "pace\n",
      "shooting\n",
      "passing\n",
      "dribbling\n",
      "defending\n",
      "physic\n",
      "gk_diving\n",
      "gk_handling\n",
      "gk_kicking\n",
      "gk_reflexes\n",
      "gk_speed\n",
      "gk_positioning\n",
      "player_traits\n",
      "attacking_crossing\n",
      "attacking_finishing\n",
      "attacking_heading_accuracy\n",
      "attacking_short_passing\n",
      "attacking_volleys\n",
      "skill_dribbling\n",
      "skill_curve\n",
      "skill_fk_accuracy\n",
      "skill_long_passing\n",
      "skill_ball_control\n",
      "movement_acceleration\n",
      "movement_sprint_speed\n",
      "movement_agility\n",
      "movement_reactions\n",
      "movement_balance\n",
      "power_shot_power\n",
      "power_jumping\n",
      "power_stamina\n",
      "power_strength\n",
      "power_long_shots\n",
      "mentality_aggression\n",
      "mentality_interceptions\n",
      "mentality_positioning\n",
      "mentality_vision\n",
      "mentality_penalties\n",
      "mentality_composure\n",
      "defending_marking\n",
      "defending_standing_tackle\n",
      "defending_sliding_tackle\n",
      "goalkeeping_diving\n",
      "goalkeeping_handling\n",
      "goalkeeping_kicking\n",
      "goalkeeping_positioning\n",
      "goalkeeping_reflexes\n",
      "ls\n",
      "st\n",
      "rs\n",
      "lw\n",
      "lf\n",
      "cf\n",
      "rf\n",
      "rw\n",
      "lam\n",
      "cam\n",
      "ram\n",
      "lm\n",
      "lcm\n",
      "cm\n",
      "rcm\n",
      "rm\n",
      "lwb\n",
      "ldm\n",
      "cdm\n",
      "rdm\n",
      "rwb\n",
      "lb\n",
      "lcb\n",
      "cb\n",
      "rcb\n",
      "rb\n"
     ]
    }
   ],
   "source": [
    "for i in df.columns:\n",
    "    print(i)"
   ]
  },
  {
   "cell_type": "markdown",
   "id": "d88ae034",
   "metadata": {},
   "source": [
    "#### Dimensions of DataFrame"
   ]
  },
  {
   "cell_type": "code",
   "execution_count": 16,
   "id": "c8f3047e",
   "metadata": {},
   "outputs": [
    {
     "data": {
      "text/plain": [
       "(18278, 104)"
      ]
     },
     "execution_count": 16,
     "metadata": {},
     "output_type": "execute_result"
    }
   ],
   "source": [
    "df.shape"
   ]
  },
  {
   "cell_type": "code",
   "execution_count": 21,
   "id": "ac6e75c7",
   "metadata": {},
   "outputs": [
    {
     "data": {
      "text/plain": [
       "18278"
      ]
     },
     "execution_count": 21,
     "metadata": {},
     "output_type": "execute_result"
    }
   ],
   "source": [
    "df.short_name.count()"
   ]
  },
  {
   "cell_type": "code",
   "execution_count": 51,
   "id": "f8dee3d8",
   "metadata": {},
   "outputs": [
    {
     "data": {
      "text/plain": [
       "nationality\n",
       "England        1667\n",
       "Germany        1216\n",
       "Spain          1035\n",
       "France          984\n",
       "Argentina       886\n",
       "               ... \n",
       "Malawi            1\n",
       "Mauritius         1\n",
       "St Lucia          1\n",
       "South Sudan       1\n",
       "Jordan            1\n",
       "Name: short_name, Length: 162, dtype: int64"
      ]
     },
     "execution_count": 51,
     "metadata": {},
     "output_type": "execute_result"
    }
   ],
   "source": [
    "df.groupby(df.nationality)['short_name'].count().sort_values(ascending=False)"
   ]
  },
  {
   "cell_type": "markdown",
   "id": "e771d4e7",
   "metadata": {},
   "source": [
    "#### Conclusion: Most Players are from England"
   ]
  },
  {
   "cell_type": "code",
   "execution_count": 333,
   "id": "1c3e1bb7",
   "metadata": {},
   "outputs": [
    {
     "name": "stdout",
     "output_type": "stream",
     "text": [
      "nationality\n",
      "England        1667\n",
      "Germany        1216\n",
      "Spain          1035\n",
      "France          984\n",
      "Argentina       886\n",
      "Brazil          824\n",
      "Italy           732\n",
      "Colombia        591\n",
      "Japan           453\n",
      "Netherlands     416\n",
      "Name: short_name, dtype: int64\n",
      "['England', 'Germany', 'Spain', 'France', 'Argentina', 'Brazil', 'Italy', 'Colombia', 'Japan', 'Netherlands']\n"
     ]
    }
   ],
   "source": [
    "x=df.groupby(df.nationality)['short_name'].count().sort_values(ascending=False).head(10)\n",
    "print(x)\n",
    "x=list(x.index)\n",
    "print(x)"
   ]
  },
  {
   "cell_type": "code",
   "execution_count": 331,
   "id": "6091cf14",
   "metadata": {},
   "outputs": [
    {
     "name": "stdout",
     "output_type": "stream",
     "text": [
      "[1667, 1216, 1035, 984, 886, 824, 732, 591, 453, 416]\n"
     ]
    }
   ],
   "source": [
    "y=df.groupby(df.nationality)['short_name'].count().sort_values(ascending=False)\n",
    "y=list(y.head(10))\n",
    "print(y)"
   ]
  },
  {
   "cell_type": "markdown",
   "id": "23193ae2",
   "metadata": {},
   "source": [
    "## Countrywise Player Distribution"
   ]
  },
  {
   "cell_type": "code",
   "execution_count": 337,
   "id": "921f0b22",
   "metadata": {},
   "outputs": [
    {
     "data": {
      "text/plain": [
       "([0, 1, 2, 3, 4, 5, 6, 7, 8, 9],\n",
       " [Text(0, 0, 'England'),\n",
       "  Text(1, 0, 'Germany'),\n",
       "  Text(2, 0, 'Spain'),\n",
       "  Text(3, 0, 'France'),\n",
       "  Text(4, 0, 'Argentina'),\n",
       "  Text(5, 0, 'Brazil'),\n",
       "  Text(6, 0, 'Italy'),\n",
       "  Text(7, 0, 'Colombia'),\n",
       "  Text(8, 0, 'Japan'),\n",
       "  Text(9, 0, 'Netherlands')])"
      ]
     },
     "execution_count": 337,
     "metadata": {},
     "output_type": "execute_result"
    },
    {
     "data": {
      "image/png": "[encoded data removed]",
      "text/plain": [
       "<Figure size 640x480 with 1 Axes>"
      ]
     },
     "metadata": {},
     "output_type": "display_data"
    }
   ],
   "source": [
    "plt.bar(x,y,color='orange')\n",
    "plt.legend([200])\n",
    "plt.ylabel('Number of players')\n",
    "plt.xlabel('Country')\n",
    "plt.xticks(rotation='vertical')"
   ]
  },
  {
   "cell_type": "markdown",
   "id": "723fe034",
   "metadata": {},
   "source": [
    "#### All Different Positions that Players play in Field"
   ]
  },
  {
   "cell_type": "code",
   "execution_count": 107,
   "id": "f1db0f09",
   "metadata": {},
   "outputs": [
    {
     "data": {
      "text/plain": [
       "array([nan, 'LS', 'LW', 'GK', 'LF', 'RCM', 'SUB', 'LCB', 'RW', 'RM', 'ST',\n",
       "       'LDM', 'RCB', 'CDM', 'CAM', 'CF', 'RDM', 'RF', 'LB', 'LCM', 'LM',\n",
       "       'RB', 'CB', 'CM', 'RS', 'RWB', 'LWB'], dtype=object)"
      ]
     },
     "execution_count": 107,
     "metadata": {},
     "output_type": "execute_result"
    }
   ],
   "source": [
    "df.nation_position.unique()"
   ]
  },
  {
   "cell_type": "code",
   "execution_count": 163,
   "id": "5a80a1d6",
   "metadata": {},
   "outputs": [
    {
     "name": "stdout",
     "output_type": "stream",
     "text": [
      "nationality\n",
      "Italy                  3\n",
      "Colombia               3\n",
      "Mexico                 3\n",
      "New Zealand            3\n",
      "Northern Ireland       3\n",
      "Germany                3\n",
      "England                3\n",
      "Egypt                  3\n",
      "Republic of Ireland    3\n",
      "Denmark                3\n",
      "Ivory Coast            3\n",
      "South Africa           3\n",
      "China PR               3\n",
      "Chile                  3\n",
      "Spain                  3\n",
      "Cameroon               3\n",
      "Brazil                 3\n",
      "Belgium                3\n",
      "United States          3\n",
      "Australia              3\n",
      "Switzerland            2\n",
      "Portugal               2\n",
      "Poland                 2\n",
      "Norway                 2\n",
      "Turkey                 2\n",
      "Argentina              2\n",
      "Ecuador                2\n",
      "India                  1\n",
      "Scotland               1\n",
      "Venezuela              1\n",
      "Uruguay                1\n",
      "Austria                1\n",
      "Bolivia                1\n",
      "Bulgaria               1\n",
      "Sweden                 1\n",
      "Canada                 1\n",
      "Czech Republic         1\n",
      "Slovenia               1\n",
      "Russia                 1\n",
      "Netherlands            1\n",
      "Romania                1\n",
      "Finland                1\n",
      "France                 1\n",
      "Peru                   1\n",
      "Paraguay               1\n",
      "Greece                 1\n",
      "Hungary                1\n",
      "Iceland                1\n",
      "Wales                  1\n",
      "Name: short_name, dtype: int64\n"
     ]
    }
   ],
   "source": [
    "sd=df[(df.nation_position=='LS') |\n",
    "   (df.nation_position=='LW') |\n",
    "   (df.nation_position=='LF') |\n",
    "   (df.nation_position=='RW') |\n",
    "   (df.nation_position=='ST') |\n",
    "   (df.nation_position=='CF') |\n",
    "   (df.nation_position=='RF') |\n",
    "   (df.nation_position=='RS')\n",
    "  ].groupby('nationality').count()\n",
    "sd=sd.iloc[:,2]\n",
    "sd=sd.sort_values(ascending=False)\n",
    "print(sd)"
   ]
  },
  {
   "cell_type": "markdown",
   "id": "393fe6cc",
   "metadata": {},
   "source": [
    "#### Conclusion: Max Number of forwards used by any country is 3"
   ]
  },
  {
   "cell_type": "code",
   "execution_count": 162,
   "id": "828e14a0",
   "metadata": {},
   "outputs": [
    {
     "name": "stdout",
     "output_type": "stream",
     "text": [
      "nationality\n",
      "Wales                  5\n",
      "Czech Republic         5\n",
      "Paraguay               5\n",
      "India                  5\n",
      "Iceland                5\n",
      "Hungary                5\n",
      "Greece                 5\n",
      "Peru                   5\n",
      "France                 5\n",
      "Finland                5\n",
      "Romania                5\n",
      "Netherlands            5\n",
      "Scotland               5\n",
      "Slovenia               5\n",
      "Sweden                 5\n",
      "Switzerland            5\n",
      "Canada                 5\n",
      "Bulgaria               5\n",
      "Uruguay                5\n",
      "Bolivia                5\n",
      "Venezuela              5\n",
      "Austria                5\n",
      "Russia                 4\n",
      "Portugal               4\n",
      "Turkey                 4\n",
      "Norway                 4\n",
      "Argentina              4\n",
      "Belgium                4\n",
      "Ecuador                4\n",
      "Mexico                 3\n",
      "Colombia               3\n",
      "Brazil                 3\n",
      "United States          3\n",
      "Cameroon               3\n",
      "Chile                  3\n",
      "China PR               3\n",
      "Spain                  3\n",
      "South Africa           3\n",
      "Denmark                3\n",
      "New Zealand            3\n",
      "Egypt                  3\n",
      "Republic of Ireland    3\n",
      "England                3\n",
      "Poland                 3\n",
      "Germany                3\n",
      "Australia              3\n",
      "Ivory Coast            3\n",
      "Northern Ireland       3\n",
      "Italy                  2\n",
      "Name: short_name, dtype: int64\n"
     ]
    }
   ],
   "source": [
    "sd=df[(df.nation_position=='LDM') |\n",
    "   (df.nation_position=='CAM') |\n",
    "   (df.nation_position=='RDM') |\n",
    "   (df.nation_position=='LCM') |\n",
    "   (df.nation_position=='LM') |\n",
    "   (df.nation_position=='CDM') |\n",
    "   (df.nation_position=='RCM') |\n",
    "   (df.nation_position=='RM')\n",
    "  ].groupby('nationality').count()\n",
    "sd=sd.iloc[:,2]\n",
    "sd=sd.sort_values(ascending=False)\n",
    "print(sd)"
   ]
  },
  {
   "cell_type": "markdown",
   "id": "bbbac0de",
   "metadata": {},
   "source": [
    "##### Conclusion: Max Number of midfielders used by any country is 5"
   ]
  },
  {
   "cell_type": "code",
   "execution_count": 170,
   "id": "8ae5f650",
   "metadata": {},
   "outputs": [
    {
     "name": "stdout",
     "output_type": "stream",
     "text": [
      "nationality\n",
      "Russia                 5\n",
      "Argentina              4\n",
      "Republic of Ireland    4\n",
      "Mexico                 4\n",
      "Netherlands            4\n",
      "New Zealand            4\n",
      "Northern Ireland       4\n",
      "Norway                 4\n",
      "Paraguay               4\n",
      "Peru                   4\n",
      "Poland                 4\n",
      "Portugal               4\n",
      "Romania                4\n",
      "Australia              4\n",
      "Scotland               4\n",
      "Slovenia               4\n",
      "South Africa           4\n",
      "Spain                  4\n",
      "Sweden                 4\n",
      "Turkey                 4\n",
      "United States          4\n",
      "Uruguay                4\n",
      "Venezuela              4\n",
      "Ivory Coast            4\n",
      "Italy                  4\n",
      "India                  4\n",
      "Czech Republic         4\n",
      "Austria                4\n",
      "Bolivia                4\n",
      "Brazil                 4\n",
      "Bulgaria               4\n",
      "Cameroon               4\n",
      "Canada                 4\n",
      "Chile                  4\n",
      "China PR               4\n",
      "Iceland                4\n",
      "Colombia               4\n",
      "Denmark                4\n",
      "Ecuador                4\n",
      "Egypt                  4\n",
      "England                4\n",
      "Finland                4\n",
      "France                 4\n",
      "Germany                4\n",
      "Greece                 4\n",
      "Hungary                4\n",
      "Wales                  4\n",
      "Switzerland            3\n",
      "Belgium                3\n",
      "Name: short_name, dtype: int64\n"
     ]
    }
   ],
   "source": [
    "defender_d=df[(df.nation_position=='LCB') |\n",
    "   (df.nation_position=='LB') |\n",
    "   (df.nation_position=='RB') |\n",
    "   (df.nation_position=='RCB') |\n",
    "   (df.nation_position=='CB') |\n",
    "   (df.nation_position=='LWB') |\n",
    "   (df.nation_position=='RWB')].groupby('nationality').count()\n",
    "defender_d=defender_d.iloc[:,2]\n",
    "defender_d=defender_d.sort_values(ascending=False)\n",
    "print(defender_d)"
   ]
  },
  {
   "cell_type": "markdown",
   "id": "5f4a60f4",
   "metadata": {},
   "source": [
    "#### Only Russia has 5 defenders others rely on 4"
   ]
  },
  {
   "cell_type": "markdown",
   "id": "a362e30a",
   "metadata": {},
   "source": [
    "## Players with Highest dribbling Skills"
   ]
  },
  {
   "cell_type": "code",
   "execution_count": 202,
   "id": "5c737305",
   "metadata": {},
   "outputs": [],
   "source": [
    "dribble=df.loc[:,['short_name','dribbling','nationality']]\n",
    "dribble=dribble.dropna()\n",
    "dribble=dribble.sort_values(by='dribbling',ascending=False)\n",
    "dribble=dribble.head(10)"
   ]
  },
  {
   "cell_type": "code",
   "execution_count": 203,
   "id": "2a1d6ba8",
   "metadata": {},
   "outputs": [
    {
     "data": {
      "text/html": [
       "<div>\n",
       "<style scoped>\n",
       "    .dataframe tbody tr th:only-of-type {\n",
       "        vertical-align: middle;\n",
       "    }\n",
       "\n",
       "    .dataframe tbody tr th {\n",
       "        vertical-align: top;\n",
       "    }\n",
       "\n",
       "    .dataframe thead th {\n",
       "        text-align: right;\n",
       "    }\n",
       "</style>\n",
       "<table border=\"1\" class=\"dataframe\">\n",
       "  <thead>\n",
       "    <tr style=\"text-align: right;\">\n",
       "      <th></th>\n",
       "      <th>short_name</th>\n",
       "      <th>dribbling</th>\n",
       "      <th>nationality</th>\n",
       "    </tr>\n",
       "  </thead>\n",
       "  <tbody>\n",
       "    <tr>\n",
       "      <th>1</th>\n",
       "      <td>L. Messi</td>\n",
       "      <td>96.0</td>\n",
       "      <td>Argentina</td>\n",
       "    </tr>\n",
       "    <tr>\n",
       "      <th>2</th>\n",
       "      <td>Neymar Jr</td>\n",
       "      <td>95.0</td>\n",
       "      <td>Brazil</td>\n",
       "    </tr>\n",
       "    <tr>\n",
       "      <th>3</th>\n",
       "      <td>E. Hazard</td>\n",
       "      <td>94.0</td>\n",
       "      <td>Belgium</td>\n",
       "    </tr>\n",
       "    <tr>\n",
       "      <th>4</th>\n",
       "      <td>Bernardo Silva</td>\n",
       "      <td>92.0</td>\n",
       "      <td>Portugal</td>\n",
       "    </tr>\n",
       "    <tr>\n",
       "      <th>5</th>\n",
       "      <td>Douglas Costa</td>\n",
       "      <td>91.0</td>\n",
       "      <td>Brazil</td>\n",
       "    </tr>\n",
       "    <tr>\n",
       "      <th>6</th>\n",
       "      <td>Isco</td>\n",
       "      <td>91.0</td>\n",
       "      <td>Spain</td>\n",
       "    </tr>\n",
       "    <tr>\n",
       "      <th>7</th>\n",
       "      <td>D. Mertens</td>\n",
       "      <td>91.0</td>\n",
       "      <td>Belgium</td>\n",
       "    </tr>\n",
       "    <tr>\n",
       "      <th>8</th>\n",
       "      <td>L. Insigne</td>\n",
       "      <td>91.0</td>\n",
       "      <td>Italy</td>\n",
       "    </tr>\n",
       "    <tr>\n",
       "      <th>9</th>\n",
       "      <td>P. Dybala</td>\n",
       "      <td>90.0</td>\n",
       "      <td>Argentina</td>\n",
       "    </tr>\n",
       "    <tr>\n",
       "      <th>10</th>\n",
       "      <td>M. Verratti</td>\n",
       "      <td>90.0</td>\n",
       "      <td>Italy</td>\n",
       "    </tr>\n",
       "  </tbody>\n",
       "</table>\n",
       "</div>"
      ],
      "text/plain": [
       "        short_name  dribbling nationality\n",
       "1         L. Messi       96.0   Argentina\n",
       "2        Neymar Jr       95.0      Brazil\n",
       "3        E. Hazard       94.0     Belgium\n",
       "4   Bernardo Silva       92.0    Portugal\n",
       "5    Douglas Costa       91.0      Brazil\n",
       "6             Isco       91.0       Spain\n",
       "7       D. Mertens       91.0     Belgium\n",
       "8       L. Insigne       91.0       Italy\n",
       "9        P. Dybala       90.0   Argentina\n",
       "10     M. Verratti       90.0       Italy"
      ]
     },
     "execution_count": 203,
     "metadata": {},
     "output_type": "execute_result"
    }
   ],
   "source": [
    "dribble.index=[1,2,3,4,5,6,7,8,9,10]\n",
    "dribble"
   ]
  },
  {
   "cell_type": "code",
   "execution_count": 204,
   "id": "377e8600",
   "metadata": {},
   "outputs": [],
   "source": [
    "x=dribble.short_name\n",
    "y=dribble.dribbling"
   ]
  },
  {
   "cell_type": "code",
   "execution_count": 233,
   "id": "221fbab9",
   "metadata": {},
   "outputs": [
    {
     "data": {
      "text/plain": [
       "Text(0.5, 0, 'Players')"
      ]
     },
     "execution_count": 233,
     "metadata": {},
     "output_type": "execute_result"
    },
    {
     "data": {
      "image/png": "[encoded data removed]",
      "text/plain": [
       "<Figure size 640x480 with 1 Axes>"
      ]
     },
     "metadata": {},
     "output_type": "display_data"
    }
   ],
   "source": [
    "plt.stem(x,y)\n",
    "plt.xticks(rotation='vertical')\n",
    "plt.ylim(80,100)\n",
    "plt.ylabel('Player Dribbling rating ')\n",
    "plt.xlabel('Players')"
   ]
  },
  {
   "cell_type": "markdown",
   "id": "6400d80c",
   "metadata": {},
   "source": [
    "## Players having highest market values"
   ]
  },
  {
   "cell_type": "code",
   "execution_count": 238,
   "id": "381ad699",
   "metadata": {},
   "outputs": [
    {
     "data": {
      "text/html": [
       "<div>\n",
       "<style scoped>\n",
       "    .dataframe tbody tr th:only-of-type {\n",
       "        vertical-align: middle;\n",
       "    }\n",
       "\n",
       "    .dataframe tbody tr th {\n",
       "        vertical-align: top;\n",
       "    }\n",
       "\n",
       "    .dataframe thead th {\n",
       "        text-align: right;\n",
       "    }\n",
       "</style>\n",
       "<table border=\"1\" class=\"dataframe\">\n",
       "  <thead>\n",
       "    <tr style=\"text-align: right;\">\n",
       "      <th></th>\n",
       "      <th>short_name</th>\n",
       "      <th>value_eur</th>\n",
       "      <th>club</th>\n",
       "    </tr>\n",
       "  </thead>\n",
       "  <tbody>\n",
       "    <tr>\n",
       "      <th>2</th>\n",
       "      <td>Neymar Jr</td>\n",
       "      <td>105500000</td>\n",
       "      <td>Paris Saint-Germain</td>\n",
       "    </tr>\n",
       "    <tr>\n",
       "      <th>0</th>\n",
       "      <td>L. Messi</td>\n",
       "      <td>95500000</td>\n",
       "      <td>FC Barcelona</td>\n",
       "    </tr>\n",
       "    <tr>\n",
       "      <th>10</th>\n",
       "      <td>K. Mbappé</td>\n",
       "      <td>93500000</td>\n",
       "      <td>Paris Saint-Germain</td>\n",
       "    </tr>\n",
       "    <tr>\n",
       "      <th>5</th>\n",
       "      <td>K. De Bruyne</td>\n",
       "      <td>90000000</td>\n",
       "      <td>Manchester City</td>\n",
       "    </tr>\n",
       "    <tr>\n",
       "      <th>4</th>\n",
       "      <td>E. Hazard</td>\n",
       "      <td>90000000</td>\n",
       "      <td>Real Madrid</td>\n",
       "    </tr>\n",
       "  </tbody>\n",
       "</table>\n",
       "</div>"
      ],
      "text/plain": [
       "      short_name  value_eur                 club\n",
       "2      Neymar Jr  105500000  Paris Saint-Germain\n",
       "0       L. Messi   95500000         FC Barcelona\n",
       "10     K. Mbappé   93500000  Paris Saint-Germain\n",
       "5   K. De Bruyne   90000000      Manchester City\n",
       "4      E. Hazard   90000000          Real Madrid"
      ]
     },
     "execution_count": 238,
     "metadata": {},
     "output_type": "execute_result"
    }
   ],
   "source": [
    "player_value=df.loc[:,['short_name','value_eur','club']].sort_values(by='value_eur',ascending=False)\n",
    "player_value=player_value.head(5)\n",
    "player_value"
   ]
  },
  {
   "cell_type": "code",
   "execution_count": 242,
   "id": "185d689e",
   "metadata": {},
   "outputs": [
    {
     "data": {
      "text/plain": [
       "Text(0, 0.5, 'Value in Euros')"
      ]
     },
     "execution_count": 242,
     "metadata": {},
     "output_type": "execute_result"
    },
    {
     "data": {
      "image/png": "[encoded data removed]",
      "text/plain": [
       "<Figure size 640x480 with 1 Axes>"
      ]
     },
     "metadata": {},
     "output_type": "display_data"
    }
   ],
   "source": [
    "plt.bar(player_value.short_name,player_value.value_eur,width=0.5,color=['orange','yellow','red','green','blue'])\n",
    "plt.xlabel('Players')\n",
    "plt.ylabel('Value in Euros')"
   ]
  },
  {
   "cell_type": "markdown",
   "id": "58783534",
   "metadata": {},
   "source": [
    "## Top 5 Players having highest wage in Euro  "
   ]
  },
  {
   "cell_type": "code",
   "execution_count": 255,
   "id": "e8d4e245",
   "metadata": {},
   "outputs": [
    {
     "name": "stdout",
     "output_type": "stream",
     "text": [
      "           short_name  wage_eur\n",
      "0            L. Messi    565000\n",
      "4           E. Hazard    470000\n",
      "1   Cristiano Ronaldo    405000\n",
      "5        K. De Bruyne    370000\n",
      "22       A. Griezmann    370000\n"
     ]
    }
   ],
   "source": [
    "p_salary=df[['short_name','wage_eur']]\n",
    "p_salary=p_salary.sort_values(by='wage_eur',ascending=False)\n",
    "p_salary=p_salary.head()\n",
    "print(p_salary)"
   ]
  },
  {
   "cell_type": "code",
   "execution_count": 283,
   "id": "24d947b6",
   "metadata": {},
   "outputs": [
    {
     "data": {
      "text/plain": [
       "age\n",
       "16      12\n",
       "17     229\n",
       "18     640\n",
       "19    1011\n",
       "20    1247\n",
       "21    1375\n",
       "22    1446\n",
       "23    1358\n",
       "24    1296\n",
       "25    1319\n",
       "26    1270\n",
       "27    1324\n",
       "28    1086\n",
       "29     999\n",
       "30     883\n",
       "31     807\n",
       "32     597\n",
       "33     475\n",
       "34     301\n",
       "35     310\n",
       "36     131\n",
       "37      81\n",
       "38      42\n",
       "39      20\n",
       "40      13\n",
       "41       4\n",
       "42       2\n",
       "Name: count, dtype: int64"
      ]
     },
     "execution_count": 283,
     "metadata": {},
     "output_type": "execute_result"
    }
   ],
   "source": [
    "age_d=df.age\n",
    "age_d=age_d.value_counts().sort_index()\n",
    "age_d"
   ]
  },
  {
   "cell_type": "code",
   "execution_count": 303,
   "id": "cdcf3b4f",
   "metadata": {},
   "outputs": [
    {
     "name": "stdout",
     "output_type": "stream",
     "text": [
      "age= 22 , count= 1446\n"
     ]
    }
   ],
   "source": [
    "print('age=', age_d.idxmax(), ', count=', age_d.max())  ## max people of 22 yrs of age play"
   ]
  },
  {
   "cell_type": "markdown",
   "id": "e30e92d9",
   "metadata": {},
   "source": [
    "## Age Distribution"
   ]
  },
  {
   "cell_type": "code",
   "execution_count": 307,
   "id": "72fbe4d4",
   "metadata": {},
   "outputs": [
    {
     "data": {
      "text/plain": [
       "Text(0.5, 0, 'Age')"
      ]
     },
     "execution_count": 307,
     "metadata": {},
     "output_type": "execute_result"
    },
    {
     "data": {
      "image/png": "[encoded data removed]",
      "text/plain": [
       "<Figure size 640x480 with 1 Axes>"
      ]
     },
     "metadata": {},
     "output_type": "display_data"
    }
   ],
   "source": [
    "plt.plot(age_d.index,list(age_d),'o-',color='green')\n",
    "plt.ylabel('No. of Players')\n",
    "plt.xlabel('Age')"
   ]
  },
  {
   "cell_type": "markdown",
   "id": "d92deaad",
   "metadata": {},
   "source": [
    "## Top Players According to OVR"
   ]
  },
  {
   "cell_type": "code",
   "execution_count": 317,
   "id": "d4f2916a",
   "metadata": {},
   "outputs": [
    {
     "data": {
      "text/html": [
       "<div>\n",
       "<style scoped>\n",
       "    .dataframe tbody tr th:only-of-type {\n",
       "        vertical-align: middle;\n",
       "    }\n",
       "\n",
       "    .dataframe tbody tr th {\n",
       "        vertical-align: top;\n",
       "    }\n",
       "\n",
       "    .dataframe thead th {\n",
       "        text-align: right;\n",
       "    }\n",
       "</style>\n",
       "<table border=\"1\" class=\"dataframe\">\n",
       "  <thead>\n",
       "    <tr style=\"text-align: right;\">\n",
       "      <th></th>\n",
       "      <th>short_name</th>\n",
       "      <th>overall</th>\n",
       "    </tr>\n",
       "  </thead>\n",
       "  <tbody>\n",
       "    <tr>\n",
       "      <th>0</th>\n",
       "      <td>L. Messi</td>\n",
       "      <td>94</td>\n",
       "    </tr>\n",
       "    <tr>\n",
       "      <th>1</th>\n",
       "      <td>Cristiano Ronaldo</td>\n",
       "      <td>93</td>\n",
       "    </tr>\n",
       "    <tr>\n",
       "      <th>2</th>\n",
       "      <td>Neymar Jr</td>\n",
       "      <td>92</td>\n",
       "    </tr>\n",
       "    <tr>\n",
       "      <th>3</th>\n",
       "      <td>J. Oblak</td>\n",
       "      <td>91</td>\n",
       "    </tr>\n",
       "    <tr>\n",
       "      <th>4</th>\n",
       "      <td>E. Hazard</td>\n",
       "      <td>91</td>\n",
       "    </tr>\n",
       "  </tbody>\n",
       "</table>\n",
       "</div>"
      ],
      "text/plain": [
       "          short_name  overall\n",
       "0           L. Messi       94\n",
       "1  Cristiano Ronaldo       93\n",
       "2          Neymar Jr       92\n",
       "3           J. Oblak       91\n",
       "4          E. Hazard       91"
      ]
     },
     "execution_count": 317,
     "metadata": {},
     "output_type": "execute_result"
    }
   ],
   "source": [
    "ovr=df[['short_name','overall']].sort_values(by='overall',ascending=False)\n",
    "ovr.head()"
   ]
  },
  {
   "cell_type": "markdown",
   "id": "f6eae6be",
   "metadata": {},
   "source": [
    "## Tallest Players"
   ]
  },
  {
   "cell_type": "code",
   "execution_count": 323,
   "id": "050eb7a8",
   "metadata": {},
   "outputs": [
    {
     "data": {
      "text/html": [
       "<div>\n",
       "<style scoped>\n",
       "    .dataframe tbody tr th:only-of-type {\n",
       "        vertical-align: middle;\n",
       "    }\n",
       "\n",
       "    .dataframe tbody tr th {\n",
       "        vertical-align: top;\n",
       "    }\n",
       "\n",
       "    .dataframe thead th {\n",
       "        text-align: right;\n",
       "    }\n",
       "</style>\n",
       "<table border=\"1\" class=\"dataframe\">\n",
       "  <thead>\n",
       "    <tr style=\"text-align: right;\">\n",
       "      <th></th>\n",
       "      <th>short_name</th>\n",
       "      <th>height_cm</th>\n",
       "      <th>nationality</th>\n",
       "    </tr>\n",
       "  </thead>\n",
       "  <tbody>\n",
       "    <tr>\n",
       "      <th>9208</th>\n",
       "      <td>T. Holý</td>\n",
       "      <td>205</td>\n",
       "      <td>Czech Republic</td>\n",
       "    </tr>\n",
       "    <tr>\n",
       "      <th>8200</th>\n",
       "      <td>A. Ba</td>\n",
       "      <td>203</td>\n",
       "      <td>Mauritania</td>\n",
       "    </tr>\n",
       "    <tr>\n",
       "      <th>12808</th>\n",
       "      <td>A. Chapman</td>\n",
       "      <td>203</td>\n",
       "      <td>England</td>\n",
       "    </tr>\n",
       "    <tr>\n",
       "      <th>3121</th>\n",
       "      <td>C. Pantilimon</td>\n",
       "      <td>203</td>\n",
       "      <td>Romania</td>\n",
       "    </tr>\n",
       "    <tr>\n",
       "      <th>12864</th>\n",
       "      <td>M. Qvist</td>\n",
       "      <td>203</td>\n",
       "      <td>Denmark</td>\n",
       "    </tr>\n",
       "  </tbody>\n",
       "</table>\n",
       "</div>"
      ],
      "text/plain": [
       "          short_name  height_cm     nationality\n",
       "9208         T. Holý        205  Czech Republic\n",
       "8200           A. Ba        203      Mauritania\n",
       "12808     A. Chapman        203         England\n",
       "3121   C. Pantilimon        203         Romania\n",
       "12864       M. Qvist        203         Denmark"
      ]
     },
     "execution_count": 323,
     "metadata": {},
     "output_type": "execute_result"
    }
   ],
   "source": [
    "hgts=df[['short_name','height_cm','nationality']]\n",
    "hgts.sort_values(by='height_cm',ascending=False).head()"
   ]
  },
  {
   "cell_type": "code",
   "execution_count": null,
   "id": "a8bf718b",
   "metadata": {},
   "outputs": [],
   "source": []
  }
 ],
 "metadata": {
  "kernelspec": {
   "display_name": "Python 3 (ipykernel)",
   "language": "python",
   "name": "python3"
  },
  "language_info": {
   "codemirror_mode": {
    "name": "ipython",
    "version": 3
   },
   "file_extension": ".py",
   "mimetype": "text/x-python",
   "name": "python",
   "nbconvert_exporter": "python",
   "pygments_lexer": "ipython3",
   "version": "3.11.5"
  }
 },
 "nbformat": 4,
 "nbformat_minor": 5
}
